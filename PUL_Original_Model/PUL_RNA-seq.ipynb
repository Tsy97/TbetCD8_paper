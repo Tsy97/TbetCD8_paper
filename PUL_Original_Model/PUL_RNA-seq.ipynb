{
 "cells": [
  {
   "cell_type": "code",
   "execution_count": 1,
   "metadata": {},
   "outputs": [],
   "source": [
    "from baggingPU import BaggingClassifierPU\n",
    "import numpy as np\n",
    "import pandas as pd\n",
    "from sklearn.svm import SVC"
   ]
  },
  {
   "cell_type": "code",
   "execution_count": 2,
   "metadata": {},
   "outputs": [],
   "source": [
    "data = pd.read_csv(\"../data/features/STAD_PCA_5_threshold0.0005.csv\",index_col=0)"
   ]
  },
  {
   "cell_type": "code",
   "execution_count": 3,
   "metadata": {
    "tags": []
   },
   "outputs": [],
   "source": [
    "STAD_high = list(pd.read_csv(\"../data/grouping/STAD_MSIH_TILsH_TMBH.txt\",sep=\"\\t\",index_col=0).index)\n",
    "STAD_EBV = list(pd.read_csv(\"../data/grouping/STAD_EBV_27.txt\",sep=\"\\t\",index_col=0).index)\n",
    "STAD_MSS= list(pd.read_csv(\"../data/grouping/STAD_MSS_257.txt\",sep=\"\\t\",index_col=0).index)"
   ]
  },
  {
   "cell_type": "code",
   "execution_count": 4,
   "metadata": {
    "tags": []
   },
   "outputs": [],
   "source": [
    "R = ['ERR2497990',\n",
    " 'ERR2497993',\n",
    " 'ERR2497994',\n",
    " 'ERR2498005',\n",
    " 'ERR2498025',\n",
    " 'ERR2498028',\n",
    " 'ERR2498033']\n",
    "NR = ['ERR2497987',\n",
    " 'ERR2497988',\n",
    " 'ERR2497989',\n",
    " 'ERR2497991',\n",
    " 'ERR2497995',\n",
    " 'ERR2497996',\n",
    " 'ERR2497997',\n",
    " 'ERR2497998',\n",
    " 'ERR2497999',\n",
    " 'ERR2498000',\n",
    " 'ERR2498001',\n",
    " 'ERR2498002',\n",
    " 'ERR2498003',\n",
    " 'ERR2498004',\n",
    " 'ERR2498006',\n",
    " 'ERR2498007',\n",
    " 'ERR2498008',\n",
    " 'ERR2498009',\n",
    " 'ERR2498010',\n",
    " 'ERR2498013',\n",
    " 'ERR2498015',\n",
    " 'ERR2498016',\n",
    " 'ERR2498019',\n",
    " 'ERR2498020',\n",
    " 'ERR2498021',\n",
    " 'ERR2498023',\n",
    " 'ERR2498024',\n",
    " 'ERR2498026',\n",
    " 'ERR2498027',\n",
    " 'ERR2498030',\n",
    " 'ERR2498032']"
   ]
  },
  {
   "cell_type": "code",
   "execution_count": 5,
   "metadata": {},
   "outputs": [],
   "source": [
    "data = data.loc[STAD_high+STAD_EBV+STAD_MSS+R+NR,:]\n",
    "grouping = [1]*len(STAD_high)+[0]*len(STAD_EBV+STAD_MSS+R+NR)"
   ]
  },
  {
   "cell_type": "code",
   "execution_count": 7,
   "metadata": {},
   "outputs": [],
   "source": [
    "X = np.asmatrix(data)\n",
    "y = np.asarray(grouping)"
   ]
  },
  {
   "cell_type": "code",
   "execution_count": 29,
   "metadata": {},
   "outputs": [],
   "source": [
    "bc = BaggingClassifierPU(\n",
    "    SVC(), \n",
    "    n_estimators = 1000,  # 1000 trees as usual\n",
    "    max_samples = sum(y), # Balance the positives and unlabeled in each bag\n",
    "    n_jobs = -1,\n",
    "    random_state=100# Use all cores\n",
    ")"
   ]
  },
  {
   "cell_type": "code",
   "execution_count": 30,
   "metadata": {
    "tags": []
   },
   "outputs": [
    {
     "name": "stderr",
     "output_type": "stream",
     "text": [
      "/home/jovi/anaconda3/envs/r4/lib/python3.9/site-packages/sklearn/utils/validation.py:727: FutureWarning: np.matrix usage is deprecated in 1.0 and will raise a TypeError in 1.2. Please convert to a numpy array with np.asarray. For more information see: https://numpy.org/doc/stable/reference/generated/numpy.matrix.html\n",
      "  warnings.warn(\n"
     ]
    }
   ],
   "source": [
    "bc.fit(X, y)\n",
    "res = bc.oob_decision_function_[:,1]"
   ]
  },
  {
   "cell_type": "code",
   "execution_count": 31,
   "metadata": {},
   "outputs": [
    {
     "name": "stdout",
     "output_type": "stream",
     "text": [
      "40\n",
      "27\n",
      "257\n",
      "7\n",
      "31\n"
     ]
    }
   ],
   "source": [
    "print(len(STAD_high))\n",
    "print(len(STAD_EBV))\n",
    "print(len(STAD_MSS))\n",
    "print(len(R))\n",
    "print(len(NR))"
   ]
  },
  {
   "cell_type": "code",
   "execution_count": 32,
   "metadata": {},
   "outputs": [],
   "source": [
    "results = pd.DataFrame(dict(zip(STAD_high+STAD_EBV+STAD_MSS+R+NR,res)).items(),columns=[\"ID\",\"Prob\"])\n",
    "results[\"subtype\"] = [\"MSI-H & TMB-H & TILs-H\"]*len(STAD_high)+[\"EBV\"]*len(STAD_EBV)+[\"MSS\"]*len(STAD_MSS)+[\"Responder\"]*len(R)+[\"Non-Responder\"]*len(NR)"
   ]
  },
  {
   "cell_type": "code",
   "execution_count": 34,
   "metadata": {},
   "outputs": [],
   "source": [
    "results.to_csv(\"TCGA-STAD_Keynote061_PUL_prod.csv\",index=False)"
   ]
  }
 ],
 "metadata": {
  "kernelspec": {
   "display_name": "Python 3 (ipykernel)",
   "language": "python",
   "name": "python3"
  },
  "language_info": {
   "codemirror_mode": {
    "name": "ipython",
    "version": 3
   },
   "file_extension": ".py",
   "mimetype": "text/x-python",
   "name": "python",
   "nbconvert_exporter": "python",
   "pygments_lexer": "ipython3",
   "version": "3.11.3"
  }
 },
 "nbformat": 4,
 "nbformat_minor": 4
}
