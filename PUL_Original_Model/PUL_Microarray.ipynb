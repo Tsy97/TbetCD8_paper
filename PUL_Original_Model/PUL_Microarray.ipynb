{
 "cells": [
  {
   "cell_type": "code",
   "execution_count": 1,
   "metadata": {},
   "outputs": [],
   "source": [
    "from baggingPU import BaggingClassifierPU\n",
    "import numpy as np\n",
    "import pandas as pd\n",
    "from sklearn.svm import SVC\n",
    "random_state=100"
   ]
  },
  {
   "cell_type": "code",
   "execution_count": 2,
   "metadata": {},
   "outputs": [],
   "source": [
    "Features = pd.read_csv(\"../data/Microarray_PCA_df.csv\",index_col=0)"
   ]
  },
  {
   "cell_type": "code",
   "execution_count": 3,
   "metadata": {},
   "outputs": [],
   "source": [
    "Positive_sample = list(pd.read_csv(\"../Data/ARGC_MSIH_TILsH.txt\",index_col=0).index)\n",
    "EBV_sample = list(pd.read_csv(\"../Data/GSE62254_EBV_18.txt\",index_col=0).index)\n",
    "MSS_sample = list(pd.read_csv(\"../Data/GSE62254_MSS_226.txt\",index_col=0).index)\n",
    "Unlabeled_sample = EBV_sample+MSS_sample"
   ]
  },
  {
   "cell_type": "code",
   "execution_count": 6,
   "metadata": {},
   "outputs": [],
   "source": [
    "data = Features.loc[Positive_sample+Unlabeled_sample,:]\n",
    "grouping = [1]*len(Positive_sample) + [0]*len(Unlabeled_sample)"
   ]
  },
  {
   "cell_type": "code",
   "execution_count": 7,
   "metadata": {},
   "outputs": [],
   "source": [
    "X = np.asmatrix(data)\n",
    "y = np.asarray(grouping)"
   ]
  },
  {
   "cell_type": "code",
   "execution_count": 8,
   "metadata": {},
   "outputs": [],
   "source": [
    "bc = BaggingClassifierPU(\n",
    "    SVC(), \n",
    "    n_estimators = 1000,  # 1000 trees as usual\n",
    "    max_samples = sum(y), # Balance the positives and unlabeled in each bag\n",
    "    n_jobs = -1,\n",
    "    random_state=random_state# Use all cores\n",
    ")"
   ]
  },
  {
   "cell_type": "code",
   "execution_count": 9,
   "metadata": {
    "tags": []
   },
   "outputs": [
    {
     "name": "stderr",
     "output_type": "stream",
     "text": [
      "/home/jovi/anaconda3/envs/r4/lib/python3.9/site-packages/sklearn/utils/validation.py:727: FutureWarning: np.matrix usage is deprecated in 1.0 and will raise a TypeError in 1.2. Please convert to a numpy array with np.asarray. For more information see: https://numpy.org/doc/stable/reference/generated/numpy.matrix.html\n",
      "  warnings.warn(\n"
     ]
    }
   ],
   "source": [
    "bc.fit(X, y)\n",
    "res = bc.oob_decision_function_[:,1]"
   ]
  },
  {
   "cell_type": "code",
   "execution_count": 10,
   "metadata": {},
   "outputs": [],
   "source": [
    "results = pd.DataFrame(index=Positive_sample+Unlabeled_sample)\n",
    "results[\"PUL_Score\"] = res"
   ]
  },
  {
   "cell_type": "code",
   "execution_count": 12,
   "metadata": {},
   "outputs": [],
   "source": [
    "results.to_csv(\"../data/ACRG_PUL_score.csv\")"
   ]
  },
  {
   "cell_type": "code",
   "execution_count": null,
   "metadata": {},
   "outputs": [],
   "source": []
  }
 ],
 "metadata": {
  "kernelspec": {
   "display_name": "Python 3 (ipykernel)",
   "language": "python",
   "name": "python3"
  },
  "language_info": {
   "codemirror_mode": {
    "name": "ipython",
    "version": 3
   },
   "file_extension": ".py",
   "mimetype": "text/x-python",
   "name": "python",
   "nbconvert_exporter": "python",
   "pygments_lexer": "ipython3",
   "version": "3.11.3"
  }
 },
 "nbformat": 4,
 "nbformat_minor": 4
}
