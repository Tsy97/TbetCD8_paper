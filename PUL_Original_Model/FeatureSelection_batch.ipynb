{
 "cells": [
  {
   "cell_type": "code",
   "execution_count": 30,
   "id": "e0ef319e-a1d0-4f07-802a-5f467a0772ab",
   "metadata": {},
   "outputs": [],
   "source": [
    "from sklearn.feature_selection import VarianceThreshold\n",
    "import pandas as pd\n",
    "import numpy as np\n",
    "from sklearn.decomposition import PCA\n",
    "from sklearn.manifold import TSNE\n",
    "import matplotlib.pyplot as plt\n",
    "from matplotlib import rcParams\n",
    "rcParams['font.family'] = 'sans-serif'\n",
    "rcParams['font.sans-serif'] = ['Arial']\n",
    "rcParams['pdf.fonttype'] = 42\n",
    "selector = VarianceThreshold(threshold=0.0005)\n",
    "ACRG_features = pd.read_csv(\"../Data/ACRG_c7_c28.csv\",index_col=0).T\n",
    "STAD_features = pd.read_csv(\"../Data/Batch_RNA_seq_c7_c28.csv\",index_col=0).T\n",
    "STAD_features.index= [x.replace(\".\",\"-\") for x in list(STAD_features.index)]"
   ]
  },
  {
   "cell_type": "code",
   "execution_count": 2,
   "id": "320bb408-a491-472e-aceb-565e10310c5e",
   "metadata": {},
   "outputs": [],
   "source": [
    "# the original PUL model only include the MSI-H&TILs-H&TMB-H group and MSS group\n",
    "RNA_seq_samples = list(pd.read_csv(\"../Data/STAD_MSIH_TILsH_TMBH.txt\",index_col=0).index)+ list(pd.read_csv(\"../Data/STAD_EBV_27.txt\",index_col=0).index) + list(pd.read_csv(\"../Data/STAD_MSS_257.txt\",index_col=0).index)\n",
    "Microarray_samples = list(pd.read_csv(\"../Data/ARGC_MSIH_TILsH.txt\",index_col=0).index) + list(pd.read_csv(\"../Data/GSE62254_EBV_18.txt\",index_col=0).index)+ list(pd.read_csv(\"../Data/GSE62254_MSS_226.txt\",index_col=0).index)"
   ]
  },
  {
   "cell_type": "code",
   "execution_count": 3,
   "id": "05b45236-6a4b-47f9-8368-ae6f483aa09a",
   "metadata": {},
   "outputs": [],
   "source": [
    "Microarray_features = ACRG_features.loc[Microarray_samples,:]\n",
    "RNA_seq_features = STAD_features.loc[RNA_seq_samples,:]"
   ]
  },
  {
   "cell_type": "code",
   "execution_count": 4,
   "id": "9351aaca-70d0-4091-8baf-6f35fdf9c1dc",
   "metadata": {},
   "outputs": [],
   "source": [
    "selector.fit(Microarray_features) \n",
    "High_variance_Microarray = selector.get_feature_names_out()\n",
    "\n",
    "selector.fit(RNA_seq_features)\n",
    "High_variance_RNA_seq = selector.get_feature_names_out()"
   ]
  },
  {
   "cell_type": "code",
   "execution_count": 5,
   "id": "3a866f86-5e2c-4ebc-8e5d-9f20727fd972",
   "metadata": {},
   "outputs": [],
   "source": [
    "len([x for x in High_variance_Microarray if x in High_variance_RNA_seq])\n",
    "High_variance_features = [x for x in High_variance_Microarray if x in High_variance_RNA_seq]"
   ]
  },
  {
   "cell_type": "code",
   "execution_count": 6,
   "id": "53441be4-babb-4a73-be2d-16ba9b891814",
   "metadata": {},
   "outputs": [],
   "source": [
    "Microarray_features_High_variance = Microarray_features[High_variance_features]\n",
    "RNA_seq_features_High_variance = RNA_seq_features[High_variance_features]"
   ]
  },
  {
   "cell_type": "code",
   "execution_count": 7,
   "id": "f3f84ca8-1d9d-4d25-bc4e-fc930d50ef48",
   "metadata": {},
   "outputs": [],
   "source": [
    "Microarray_features_High_variance.to_csv(\"../data/Microarray_features_High_variance.csv\")\n",
    "RNA_seq_features_High_variance.to_csv(\"../data/RNA_seq_features_High_variance.csv\")"
   ]
  },
  {
   "cell_type": "code",
   "execution_count": 8,
   "id": "bff2e6dc-b46e-4fb1-a7a3-5754854ece16",
   "metadata": {},
   "outputs": [],
   "source": [
    "features_df = pd.DataFrame(columns = [\"Features\"])\n",
    "features_df[\"Features\"] = High_variance_features\n",
    "features_df.to_csv(\"../data/High_variance_features_name.txt\",sep=\"\\t\",index=False)"
   ]
  },
  {
   "cell_type": "code",
   "execution_count": 15,
   "id": "72b643a8-388e-443b-bcc3-a813853a174b",
   "metadata": {},
   "outputs": [],
   "source": [
    "pca = PCA(n_components=10)\n",
    "Microarray_PCA = pca.fit_transform(Microarray_features_High_variance)\n",
    "PCA1 = pca.explained_variance_ratio_.cumsum()"
   ]
  },
  {
   "cell_type": "code",
   "execution_count": 16,
   "id": "968320ad-0923-49cf-8ce3-d537d0508e41",
   "metadata": {},
   "outputs": [],
   "source": [
    "\n",
    "pca = PCA(n_components=10)\n",
    "RNA_seq_PCA = pca.fit_transform(RNA_seq_features_High_variance)\n",
    "PCA2 = pca.explained_variance_ratio_.cumsum()"
   ]
  },
  {
   "cell_type": "code",
   "execution_count": 31,
   "id": "0ebe60ef-9583-4578-a5ad-82432dfda786",
   "metadata": {},
   "outputs": [
    {
     "data": {
      "image/png": "[encoded data removed]",
      "text/plain": [
       "<Figure size 432x288 with 1 Axes>"
      ]
     },
     "metadata": {
      "needs_background": "light"
     },
     "output_type": "display_data"
    }
   ],
   "source": [
    "fig = plt.figure(figsize=(6,4))\n",
    "ax = fig.gca()\n",
    "# df = df.sort_values(by=\"ARGC\",ascending=False)\n",
    "plt.bar(x = range(1,11),height = PCA2,color = \"grey\")\n",
    "plt.axhline(y = 0.85, color = '#C62828', linestyle = '--')\n",
    "ax.set_xticks(range(1,11))\n",
    "ax.set_yticks([0,0.2,0.4,0.6,0.8,1.0])\n",
    "fig.savefig(\"STAD_PCA_explained.pdf\",dpi=600,bbox_inches='tight',transparent=True)"
   ]
  },
  {
   "cell_type": "code",
   "execution_count": 32,
   "id": "b6520342-804a-46a0-8d79-286f7ab78aa9",
   "metadata": {},
   "outputs": [
    {
     "data": {
      "image/png": "[encoded data removed]",
      "text/plain": [
       "<Figure size 432x288 with 1 Axes>"
      ]
     },
     "metadata": {
      "needs_background": "light"
     },
     "output_type": "display_data"
    }
   ],
   "source": [
    "fig = plt.figure(figsize=(6,4))\n",
    "ax = fig.gca()\n",
    "# df = df.sort_values(by=\"ARGC\",ascending=False)\n",
    "plt.bar(x = range(1,11),height = PCA1,color = \"grey\")\n",
    "plt.axhline(y = 0.85, color = '#C62828', linestyle = '--')\n",
    "ax.set_xticks(range(1,11))\n",
    "ax.set_yticks([0,0.2,0.4,0.6,0.8,1.0])\n",
    "fig.savefig(\"ACRG_PCA_explained.pdf\",dpi=600,bbox_inches='tight',transparent=True)"
   ]
  },
  {
   "cell_type": "code",
   "execution_count": null,
   "id": "67c0930f-8d3a-473c-8d15-630d80d19b43",
   "metadata": {},
   "outputs": [],
   "source": [
    "Microarray_PCA_df = pd.DataFrame(Microarray_PCA,index=Microarray_samples)\n",
    "RNA_seq_PCA_df = pd.DataFrame(RNA_seq_PCA,index=RNA_seq_samples)"
   ]
  },
  {
   "cell_type": "code",
   "execution_count": 10,
   "id": "933d3e77-ef25-4918-a82c-ab36eb7596a9",
   "metadata": {},
   "outputs": [],
   "source": [
    "Microarray_PCA_df.to_csv(\"../data/Microarray_PCA_df.csv\")\n",
    "RNA_seq_PCA_df.to_csv(\"../data/RNA_seq_PCA_df.csv\")"
   ]
  }
 ],
 "metadata": {
  "kernelspec": {
   "display_name": "Python 3 (ipykernel)",
   "language": "python",
   "name": "python3"
  },
  "language_info": {
   "codemirror_mode": {
    "name": "ipython",
    "version": 3
   },
   "file_extension": ".py",
   "mimetype": "text/x-python",
   "name": "python",
   "nbconvert_exporter": "python",
   "pygments_lexer": "ipython3",
   "version": "3.11.3"
  }
 },
 "nbformat": 4,
 "nbformat_minor": 5
}
